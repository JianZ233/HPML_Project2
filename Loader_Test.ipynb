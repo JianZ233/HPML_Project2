{
 "cells": [
  {
   "cell_type": "code",
   "execution_count": 1,
   "id": "62ea12bf-1ee7-40f3-80b5-40d27a6e8289",
   "metadata": {},
   "outputs": [],
   "source": [
    "import os\n",
    "import time\n",
    "from safetensors.torch import load_file\n",
    "from transformers import AutoModelForCausalLM, AutoConfig\n",
    "import torch\n",
    "import torch.nn as nn\n",
    "from ShardedFP8ModelLoader import ShardedFP8ModelLoader, FP8Format"
   ]
  },
  {
   "cell_type": "code",
   "execution_count": 2,
   "id": "5df089ce-2662-4247-a426-cc63204bea05",
   "metadata": {},
   "outputs": [],
   "source": [
    "model_dir = \"./Meta-Llama-3.1-8B-Instruct-FP8\""
   ]
  },
  {
   "cell_type": "code",
   "execution_count": 3,
   "id": "681c7ef2-9300-4f1d-a313-e9d40878f054",
   "metadata": {},
   "outputs": [],
   "source": [
    "model_loader = ShardedFP8ModelLoader(\n",
    "    model_dir=model_dir,\n",
    "    device_ids=[0, 1],\n",
    "    memory_efficient=True,\n",
    "    fp8_format=FP8Format(e4m3=True)\n",
    ")"
   ]
  },
  {
   "cell_type": "code",
   "execution_count": 4,
   "id": "5bf07fdf-ee64-4683-b120-26c1dd23a874",
   "metadata": {},
   "outputs": [],
   "source": [
    "# Check if CUDA is available\n",
    "if not torch.cuda.is_available():\n",
    "    raise RuntimeError(\"CUDA is not available\")"
   ]
  },
  {
   "cell_type": "code",
   "execution_count": 5,
   "id": "920b1a7f-988d-4c55-ac7b-79fdfadc2849",
   "metadata": {},
   "outputs": [
    {
     "name": "stdout",
     "output_type": "stream",
     "text": [
      "GPU 0: NVIDIA L4\n",
      "Memory: 21.95 GB\n",
      "GPU 1: NVIDIA L4\n",
      "Memory: 21.95 GB\n"
     ]
    }
   ],
   "source": [
    "# Print GPU info\n",
    "for i in range(torch.cuda.device_count()):\n",
    "    print(f\"GPU {i}: {torch.cuda.get_device_name(i)}\")\n",
    "    print(f\"Memory: {torch.cuda.get_device_properties(i).total_memory / 1024**3:.2f} GB\")"
   ]
  },
  {
   "cell_type": "code",
   "execution_count": 6,
   "id": "e76c1dc4-a1f4-4b60-a75b-c545c6e26fd6",
   "metadata": {},
   "outputs": [
    {
     "name": "stdout",
     "output_type": "stream",
     "text": [
      "Found shard files: ['model-00001-of-00002.safetensors', 'model-00002-of-00002.safetensors']\n"
     ]
    }
   ],
   "source": [
    "# Gather all shard files\n",
    "shard_files = [f for f in os.listdir(model_dir) if f.startswith(\"model-\") and f.endswith(\".safetensors\")]\n",
    "shard_files = sorted(shard_files)\n",
    "print(f\"Found shard files: {shard_files}\")"
   ]
  },
  {
   "cell_type": "code",
   "execution_count": 7,
   "id": "d68bccb5-9404-40dc-b46e-a99ad517e8d5",
   "metadata": {},
   "outputs": [
    {
     "name": "stdout",
     "output_type": "stream",
     "text": [
      "Loading shard: ./Meta-Llama-3.1-8B-Instruct-FP8/model-00001-of-00002.safetensors\n",
      "Loading shard: ./Meta-Llama-3.1-8B-Instruct-FP8/model-00002-of-00002.safetensors\n"
     ]
    }
   ],
   "source": [
    "# Load all shards into a single dictionary\n",
    "all_weights = {}\n",
    "for sf in shard_files:\n",
    "    shard_path = os.path.join(model_dir, sf)\n",
    "    print(f\"Loading shard: {shard_path}\")\n",
    "    shard_weights = load_file(shard_path)\n",
    "    all_weights.update(shard_weights)"
   ]
  },
  {
   "cell_type": "code",
   "execution_count": 8,
   "id": "a4df0806-daa7-431b-b8f1-138dcaf0e420",
   "metadata": {},
   "outputs": [
    {
     "name": "stdout",
     "output_type": "stream",
     "text": [
      "Model distributed across 2 GPUs\n"
     ]
    }
   ],
   "source": [
    "# Measure the loading time\n",
    "start_time = time.time()\n",
    "model = model_loader.load_model_from_weights(all_weights)\n",
    "end_time = time.time()"
   ]
  },
  {
   "cell_type": "code",
   "execution_count": 9,
   "id": "f6966137-2bfe-4155-b0ff-6b13a00d188c",
   "metadata": {},
   "outputs": [
    {
     "name": "stdout",
     "output_type": "stream",
     "text": [
      "\n",
      "Model loaded successfully on devices: ['cuda:0', 'cuda:1']\n",
      "Model type: LlamaForCausalLM\n",
      "Total parameters: 8.03B\n",
      "Model loaded in 119.61 seconds\n"
     ]
    }
   ],
   "source": [
    "# Verify model loading\n",
    "print(f\"\\nModel loaded successfully on devices: {[f'cuda:{i}' for i in model_loader.device_ids]}\")\n",
    "print(f\"Model type: {type(model).__name__}\")\n",
    "print(f\"Total parameters: {sum(p.numel() for p in model.parameters())/1e9:.2f}B\")\n",
    "print(f\"Model loaded in {end_time - start_time:.2f} seconds\")"
   ]
  },
  {
   "cell_type": "code",
   "execution_count": 10,
   "id": "5ad8de56-4ded-4efc-afe9-4bf2814602c5",
   "metadata": {},
   "outputs": [
    {
     "name": "stdout",
     "output_type": "stream",
     "text": [
      "Model keys example: ['model.embed_tokens.weight', 'model.layers.0.self_attn.q_proj.weight', 'model.layers.0.self_attn.k_proj.weight', 'model.layers.0.self_attn.v_proj.weight', 'model.layers.0.self_attn.o_proj.weight', 'model.layers.0.mlp.gate_proj.weight', 'model.layers.0.mlp.up_proj.weight', 'model.layers.0.mlp.down_proj.weight', 'model.layers.0.input_layernorm.weight', 'model.layers.0.post_attention_layernorm.weight', 'model.layers.1.self_attn.q_proj.weight', 'model.layers.1.self_attn.k_proj.weight', 'model.layers.1.self_attn.v_proj.weight', 'model.layers.1.self_attn.o_proj.weight', 'model.layers.1.mlp.gate_proj.weight', 'model.layers.1.mlp.up_proj.weight', 'model.layers.1.mlp.down_proj.weight', 'model.layers.1.input_layernorm.weight', 'model.layers.1.post_attention_layernorm.weight', 'model.layers.2.self_attn.q_proj.weight', 'model.layers.2.self_attn.k_proj.weight', 'model.layers.2.self_attn.v_proj.weight', 'model.layers.2.self_attn.o_proj.weight', 'model.layers.2.mlp.gate_proj.weight', 'model.layers.2.mlp.up_proj.weight', 'model.layers.2.mlp.down_proj.weight', 'model.layers.2.input_layernorm.weight', 'model.layers.2.post_attention_layernorm.weight', 'model.layers.3.self_attn.q_proj.weight', 'model.layers.3.self_attn.k_proj.weight', 'model.layers.3.self_attn.v_proj.weight', 'model.layers.3.self_attn.o_proj.weight', 'model.layers.3.mlp.gate_proj.weight', 'model.layers.3.mlp.up_proj.weight', 'model.layers.3.mlp.down_proj.weight', 'model.layers.3.input_layernorm.weight', 'model.layers.3.post_attention_layernorm.weight', 'model.layers.4.self_attn.q_proj.weight', 'model.layers.4.self_attn.k_proj.weight', 'model.layers.4.self_attn.v_proj.weight', 'model.layers.4.self_attn.o_proj.weight', 'model.layers.4.mlp.gate_proj.weight', 'model.layers.4.mlp.up_proj.weight', 'model.layers.4.mlp.down_proj.weight', 'model.layers.4.input_layernorm.weight', 'model.layers.4.post_attention_layernorm.weight', 'model.layers.5.self_attn.q_proj.weight', 'model.layers.5.self_attn.k_proj.weight', 'model.layers.5.self_attn.v_proj.weight', 'model.layers.5.self_attn.o_proj.weight']\n",
      "Checkpoint keys example: ['embed_tokens.weight', 'layers.0.input_layernorm.weight', 'layers.0.mlp.down_proj.input_scale', 'layers.0.mlp.down_proj.weight', 'layers.0.mlp.down_proj.weight_scale', 'layers.0.mlp.gate_proj.input_scale', 'layers.0.mlp.gate_proj.weight', 'layers.0.mlp.gate_proj.weight_scale', 'layers.0.mlp.up_proj.input_scale', 'layers.0.mlp.up_proj.weight', 'layers.0.mlp.up_proj.weight_scale', 'layers.0.post_attention_layernorm.weight', 'layers.0.self_attn.k_proj.input_scale', 'layers.0.self_attn.k_proj.weight', 'layers.0.self_attn.k_proj.weight_scale', 'layers.0.self_attn.o_proj.input_scale', 'layers.0.self_attn.o_proj.weight', 'layers.0.self_attn.o_proj.weight_scale', 'layers.0.self_attn.q_proj.input_scale', 'layers.0.self_attn.q_proj.weight', 'layers.0.self_attn.q_proj.weight_scale', 'layers.0.self_attn.v_proj.input_scale', 'layers.0.self_attn.v_proj.weight', 'layers.0.self_attn.v_proj.weight_scale', 'layers.1.input_layernorm.weight', 'layers.1.mlp.down_proj.input_scale', 'layers.1.mlp.down_proj.weight', 'layers.1.mlp.down_proj.weight_scale', 'layers.1.mlp.gate_proj.input_scale', 'layers.1.mlp.gate_proj.weight', 'layers.1.mlp.gate_proj.weight_scale', 'layers.1.mlp.up_proj.input_scale', 'layers.1.mlp.up_proj.weight', 'layers.1.mlp.up_proj.weight_scale', 'layers.1.post_attention_layernorm.weight', 'layers.1.self_attn.k_proj.input_scale', 'layers.1.self_attn.k_proj.weight', 'layers.1.self_attn.k_proj.weight_scale', 'layers.1.self_attn.o_proj.input_scale', 'layers.1.self_attn.o_proj.weight', 'layers.1.self_attn.o_proj.weight_scale', 'layers.1.self_attn.q_proj.input_scale', 'layers.1.self_attn.q_proj.weight', 'layers.1.self_attn.q_proj.weight_scale', 'layers.1.self_attn.v_proj.input_scale', 'layers.1.self_attn.v_proj.weight', 'layers.1.self_attn.v_proj.weight_scale', 'layers.10.input_layernorm.weight', 'layers.10.mlp.down_proj.input_scale', 'layers.10.mlp.down_proj.weight']\n"
     ]
    }
   ],
   "source": [
    "print(\"Model keys example:\", list(model.state_dict().keys())[:50])\n",
    "print(\"Checkpoint keys example:\", list(all_weights.keys())[:50])"
   ]
  },
  {
   "cell_type": "code",
   "execution_count": null,
   "id": "2ebb050f-6c0a-4c99-85c6-4b5e92b97431",
   "metadata": {},
   "outputs": [],
   "source": []
  }
 ],
 "metadata": {
  "kernelspec": {
   "display_name": "Python 3 (ipykernel)",
   "language": "python",
   "name": "python3"
  },
  "language_info": {
   "codemirror_mode": {
    "name": "ipython",
    "version": 3
   },
   "file_extension": ".py",
   "mimetype": "text/x-python",
   "name": "python",
   "nbconvert_exporter": "python",
   "pygments_lexer": "ipython3",
   "version": "3.11.2"
  }
 },
 "nbformat": 4,
 "nbformat_minor": 5
}
