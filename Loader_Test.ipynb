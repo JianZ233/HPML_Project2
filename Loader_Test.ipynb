{
 "cells": [
  {
   "cell_type": "code",
   "execution_count": 1,
   "id": "62ea12bf-1ee7-40f3-80b5-40d27a6e8289",
   "metadata": {},
   "outputs": [],
   "source": [
    "import os\n",
    "from safetensors.torch import load_file\n",
    "from transformers import AutoModelForCausalLM, AutoConfig\n",
    "import torch\n",
    "import torch.nn as nn\n",
    "from ShardedFP8ModelLoader import ShardedFP8ModelLoader, FP8Format"
   ]
  },
  {
   "cell_type": "code",
   "execution_count": 2,
   "id": "5df089ce-2662-4247-a426-cc63204bea05",
   "metadata": {},
   "outputs": [],
   "source": [
    "model_dir = \"./Meta-Llama-3.1-8B-Instruct-FP8\""
   ]
  },
  {
   "cell_type": "code",
   "execution_count": 3,
   "id": "681c7ef2-9300-4f1d-a313-e9d40878f054",
   "metadata": {},
   "outputs": [],
   "source": [
    "model_loader = ShardedFP8ModelLoader(\n",
    "    model_dir=model_dir,\n",
    "    device_ids=[0, 1],\n",
    "    memory_efficient=True,\n",
    "    fp8_format=FP8Format(e4m3=True)\n",
    ")\n"
   ]
  },
  {
   "cell_type": "code",
   "execution_count": 4,
   "id": "5bf07fdf-ee64-4683-b120-26c1dd23a874",
   "metadata": {},
   "outputs": [],
   "source": [
    "# First check if CUDA is available\n",
    "if not torch.cuda.is_available():\n",
    "    raise RuntimeError(\"CUDA is not available\")\n"
   ]
  },
  {
   "cell_type": "code",
   "execution_count": 5,
   "id": "920b1a7f-988d-4c55-ac7b-79fdfadc2849",
   "metadata": {},
   "outputs": [
    {
     "name": "stdout",
     "output_type": "stream",
     "text": [
      "GPU 0: NVIDIA L4\n",
      "Memory: 21.95 GB\n",
      "GPU 1: NVIDIA L4\n",
      "Memory: 21.95 GB\n"
     ]
    }
   ],
   "source": [
    "# Print GPU info\n",
    "for i in range(torch.cuda.device_count()):\n",
    "    print(f\"GPU {i}: {torch.cuda.get_device_name(i)}\")\n",
    "    print(f\"Memory: {torch.cuda.get_device_properties(i).total_memory / 1024**3:.2f} GB\")\n"
   ]
  },
  {
   "cell_type": "code",
   "execution_count": 6,
   "id": "e76c1dc4-a1f4-4b60-a75b-c545c6e26fd6",
   "metadata": {},
   "outputs": [
    {
     "name": "stdout",
     "output_type": "stream",
     "text": [
      "Missing keys: ['model.layers.28.input_layernorm.weight', 'model.layers.7.self_attn.v_proj.weight', 'model.layers.0.input_layernorm.weight', 'model.layers.24.mlp.down_proj.weight', 'model.layers.24.mlp.gate_proj.weight', 'model.layers.4.self_attn.o_proj.weight', 'model.layers.27.mlp.gate_proj.weight', 'model.layers.30.mlp.up_proj.weight', 'model.layers.25.mlp.up_proj.weight', 'model.layers.14.self_attn.k_proj.weight', 'model.layers.28.mlp.down_proj.weight', 'model.layers.15.post_attention_layernorm.weight', 'model.layers.30.mlp.down_proj.weight', 'model.layers.29.post_attention_layernorm.weight', 'model.layers.21.input_layernorm.weight', 'model.layers.4.self_attn.v_proj.weight', 'model.layers.16.post_attention_layernorm.weight', 'model.layers.1.self_attn.k_proj.weight', 'model.layers.10.self_attn.q_proj.weight', 'model.layers.29.mlp.gate_proj.weight', 'model.layers.26.mlp.gate_proj.weight', 'model.layers.2.input_layernorm.weight', 'model.layers.29.input_layernorm.weight', 'model.layers.19.self_attn.q_proj.weight', 'model.layers.5.self_attn.v_proj.weight', 'lm_head.weight', 'model.layers.16.self_attn.o_proj.weight', 'model.layers.31.mlp.up_proj.weight', 'model.layers.30.self_attn.q_proj.weight', 'model.layers.3.self_attn.v_proj.weight', 'model.layers.28.self_attn.v_proj.weight', 'model.layers.27.mlp.down_proj.weight', 'model.layers.30.mlp.gate_proj.weight', 'model.layers.6.self_attn.k_proj.weight', 'model.layers.17.self_attn.q_proj.weight', 'model.layers.22.self_attn.k_proj.weight', 'model.layers.27.self_attn.k_proj.weight', 'model.layers.13.self_attn.v_proj.weight', 'model.layers.17.post_attention_layernorm.weight', 'model.layers.11.self_attn.v_proj.weight', 'model.layers.22.post_attention_layernorm.weight', 'model.layers.23.self_attn.o_proj.weight', 'model.layers.20.input_layernorm.weight', 'model.norm.weight', 'model.layers.31.self_attn.q_proj.weight', 'model.layers.15.self_attn.k_proj.weight', 'model.layers.27.self_attn.q_proj.weight', 'model.layers.25.input_layernorm.weight', 'model.layers.18.input_layernorm.weight', 'model.layers.15.input_layernorm.weight', 'model.layers.23.self_attn.k_proj.weight', 'model.layers.14.self_attn.q_proj.weight', 'model.layers.23.post_attention_layernorm.weight', 'model.layers.24.mlp.up_proj.weight', 'model.layers.31.self_attn.k_proj.weight', 'model.layers.13.self_attn.o_proj.weight', 'model.layers.23.self_attn.q_proj.weight', 'model.layers.9.self_attn.o_proj.weight', 'model.layers.19.mlp.up_proj.weight', 'model.layers.24.post_attention_layernorm.weight', 'model.layers.28.self_attn.o_proj.weight', 'model.layers.21.mlp.up_proj.weight', 'model.layers.21.self_attn.q_proj.weight', 'model.layers.4.self_attn.q_proj.weight', 'model.layers.8.self_attn.v_proj.weight', 'model.layers.30.self_attn.v_proj.weight', 'model.layers.6.self_attn.q_proj.weight', 'model.layers.22.mlp.up_proj.weight', 'model.layers.31.mlp.down_proj.weight', 'model.layers.13.input_layernorm.weight', 'model.layers.23.mlp.up_proj.weight', 'model.layers.29.self_attn.o_proj.weight', 'model.layers.27.post_attention_layernorm.weight', 'model.layers.5.post_attention_layernorm.weight', 'model.layers.14.self_attn.v_proj.weight', 'model.layers.11.self_attn.o_proj.weight', 'model.layers.26.self_attn.k_proj.weight', 'model.layers.17.self_attn.k_proj.weight', 'model.layers.25.self_attn.k_proj.weight', 'model.layers.18.self_attn.v_proj.weight', 'model.layers.30.post_attention_layernorm.weight', 'model.layers.7.input_layernorm.weight', 'model.layers.18.post_attention_layernorm.weight', 'model.layers.22.self_attn.v_proj.weight', 'model.layers.4.input_layernorm.weight', 'model.layers.19.input_layernorm.weight', 'model.layers.28.mlp.up_proj.weight', 'model.layers.7.self_attn.q_proj.weight', 'model.layers.20.post_attention_layernorm.weight', 'model.layers.0.post_attention_layernorm.weight', 'model.layers.24.self_attn.k_proj.weight', 'model.layers.13.self_attn.k_proj.weight', 'model.layers.31.post_attention_layernorm.weight', 'model.layers.6.post_attention_layernorm.weight', 'model.layers.20.self_attn.k_proj.weight', 'model.layers.18.self_attn.o_proj.weight', 'model.layers.28.mlp.gate_proj.weight', 'model.layers.12.self_attn.q_proj.weight', 'model.layers.18.self_attn.q_proj.weight', 'model.layers.16.self_attn.v_proj.weight', 'model.layers.14.input_layernorm.weight', 'model.layers.21.post_attention_layernorm.weight', 'model.layers.27.self_attn.v_proj.weight', 'model.layers.18.self_attn.k_proj.weight', 'model.layers.26.mlp.up_proj.weight', 'model.layers.25.mlp.down_proj.weight', 'model.layers.18.mlp.down_proj.weight', 'model.layers.29.mlp.up_proj.weight', 'model.layers.22.self_attn.q_proj.weight', 'model.layers.11.self_attn.q_proj.weight', 'model.layers.27.input_layernorm.weight', 'model.layers.10.self_attn.o_proj.weight', 'model.layers.9.self_attn.q_proj.weight', 'model.layers.8.self_attn.k_proj.weight', 'model.layers.23.mlp.down_proj.weight', 'model.layers.6.input_layernorm.weight', 'model.layers.26.mlp.down_proj.weight', 'model.layers.19.self_attn.k_proj.weight', 'model.layers.8.self_attn.o_proj.weight', 'model.layers.22.mlp.gate_proj.weight', 'model.layers.17.self_attn.v_proj.weight', 'model.layers.22.self_attn.o_proj.weight', 'model.layers.19.mlp.gate_proj.weight', 'model.layers.28.self_attn.k_proj.weight', 'model.layers.19.post_attention_layernorm.weight', 'model.layers.2.self_attn.q_proj.weight', 'model.layers.29.self_attn.q_proj.weight', 'model.layers.9.input_layernorm.weight', 'model.layers.3.self_attn.k_proj.weight', 'model.layers.27.mlp.up_proj.weight', 'model.layers.29.self_attn.k_proj.weight', 'model.layers.23.input_layernorm.weight', 'model.layers.3.input_layernorm.weight', 'model.layers.10.self_attn.v_proj.weight', 'model.layers.29.mlp.down_proj.weight', 'model.layers.19.self_attn.v_proj.weight', 'model.layers.19.mlp.down_proj.weight', 'model.layers.12.input_layernorm.weight', 'model.layers.19.self_attn.o_proj.weight', 'model.layers.26.self_attn.o_proj.weight', 'model.layers.25.mlp.gate_proj.weight', 'model.layers.3.post_attention_layernorm.weight', 'model.layers.21.mlp.down_proj.weight', 'model.layers.31.self_attn.o_proj.weight', 'model.layers.0.self_attn.v_proj.weight', 'model.layers.26.self_attn.v_proj.weight', 'model.layers.27.self_attn.o_proj.weight', 'model.layers.10.input_layernorm.weight', 'model.layers.3.self_attn.q_proj.weight', 'model.layers.5.self_attn.o_proj.weight', 'model.layers.22.mlp.down_proj.weight', 'model.layers.7.post_attention_layernorm.weight', 'model.layers.28.self_attn.q_proj.weight', 'model.layers.1.self_attn.v_proj.weight', 'model.layers.8.self_attn.q_proj.weight', 'model.layers.11.self_attn.k_proj.weight', 'model.layers.9.self_attn.v_proj.weight', 'model.layers.11.post_attention_layernorm.weight', 'model.layers.5.self_attn.q_proj.weight', 'model.layers.7.self_attn.k_proj.weight', 'model.layers.20.self_attn.q_proj.weight', 'model.layers.20.self_attn.v_proj.weight', 'model.layers.25.self_attn.o_proj.weight', 'model.layers.26.self_attn.q_proj.weight', 'model.layers.10.self_attn.k_proj.weight', 'model.layers.8.post_attention_layernorm.weight', 'model.layers.23.mlp.gate_proj.weight', 'model.layers.21.self_attn.v_proj.weight', 'model.layers.25.post_attention_layernorm.weight', 'model.layers.2.self_attn.v_proj.weight', 'model.layers.24.self_attn.q_proj.weight', 'model.layers.6.self_attn.v_proj.weight', 'model.layers.16.self_attn.k_proj.weight', 'model.layers.21.self_attn.k_proj.weight', 'model.layers.25.self_attn.q_proj.weight', 'model.layers.30.self_attn.o_proj.weight', 'model.layers.20.mlp.down_proj.weight', 'model.layers.12.self_attn.o_proj.weight', 'model.layers.3.self_attn.o_proj.weight', 'model.layers.30.input_layernorm.weight', 'model.layers.18.mlp.gate_proj.weight', 'model.layers.4.self_attn.k_proj.weight', 'model.layers.24.self_attn.v_proj.weight', 'model.layers.2.self_attn.k_proj.weight', 'model.layers.15.self_attn.q_proj.weight', 'model.layers.20.self_attn.o_proj.weight', 'model.layers.12.self_attn.v_proj.weight', 'model.layers.16.input_layernorm.weight', 'model.layers.21.self_attn.o_proj.weight', 'model.layers.10.post_attention_layernorm.weight', 'model.layers.7.self_attn.o_proj.weight', 'model.layers.5.self_attn.k_proj.weight', 'model.layers.26.input_layernorm.weight', 'model.layers.15.self_attn.v_proj.weight', 'model.layers.13.self_attn.q_proj.weight', 'model.layers.9.self_attn.k_proj.weight', 'model.layers.22.input_layernorm.weight', 'model.layers.6.self_attn.o_proj.weight', 'model.layers.16.self_attn.q_proj.weight', 'model.layers.24.input_layernorm.weight', 'model.layers.2.self_attn.o_proj.weight', 'model.layers.13.post_attention_layernorm.weight', 'model.layers.31.input_layernorm.weight', 'model.layers.2.post_attention_layernorm.weight', 'model.layers.11.input_layernorm.weight', 'model.layers.17.self_attn.o_proj.weight', 'model.layers.12.post_attention_layernorm.weight', 'model.layers.15.self_attn.o_proj.weight', 'model.layers.9.post_attention_layernorm.weight', 'model.layers.8.input_layernorm.weight', 'model.layers.1.post_attention_layernorm.weight', 'model.layers.12.self_attn.k_proj.weight', 'model.layers.20.mlp.up_proj.weight', 'model.layers.31.self_attn.v_proj.weight', 'model.layers.5.input_layernorm.weight', 'model.layers.23.self_attn.v_proj.weight', 'model.layers.25.self_attn.v_proj.weight', 'model.layers.14.post_attention_layernorm.weight', 'model.layers.29.self_attn.v_proj.weight', 'model.layers.26.post_attention_layernorm.weight', 'model.layers.28.post_attention_layernorm.weight', 'model.layers.20.mlp.gate_proj.weight', 'model.layers.14.self_attn.o_proj.weight', 'model.layers.0.self_attn.k_proj.weight', 'model.layers.24.self_attn.o_proj.weight', 'model.layers.30.self_attn.k_proj.weight', 'model.layers.21.mlp.gate_proj.weight', 'model.layers.31.mlp.gate_proj.weight', 'model.layers.1.input_layernorm.weight', 'model.layers.18.mlp.up_proj.weight', 'model.layers.4.post_attention_layernorm.weight', 'model.layers.17.input_layernorm.weight']\n",
      "Missing keys: ['model.layers.26.mlp.down_proj.weight', 'model.layers.28.input_layernorm.weight', 'model.layers.19.self_attn.k_proj.weight', 'model.layers.0.mlp.down_proj.weight', 'model.layers.11.mlp.up_proj.weight', 'model.layers.22.mlp.gate_proj.weight', 'model.layers.24.mlp.down_proj.weight', 'model.layers.16.mlp.gate_proj.weight', 'model.layers.24.mlp.gate_proj.weight', 'model.layers.13.mlp.up_proj.weight', 'model.layers.22.self_attn.o_proj.weight', 'model.layers.19.mlp.gate_proj.weight', 'model.layers.28.self_attn.k_proj.weight', 'model.layers.19.post_attention_layernorm.weight', 'model.layers.9.mlp.down_proj.weight', 'model.layers.29.self_attn.q_proj.weight', 'model.layers.27.mlp.gate_proj.weight', 'model.layers.30.mlp.up_proj.weight', 'model.layers.25.mlp.up_proj.weight', 'model.layers.14.mlp.down_proj.weight', 'model.layers.27.mlp.up_proj.weight', 'model.layers.6.mlp.down_proj.weight', 'model.layers.12.mlp.up_proj.weight', 'model.layers.23.input_layernorm.weight', 'model.layers.29.self_attn.k_proj.weight', 'model.layers.13.mlp.down_proj.weight', 'model.layers.29.mlp.down_proj.weight', 'model.layers.5.mlp.up_proj.weight', 'model.layers.28.mlp.down_proj.weight', 'model.layers.19.self_attn.v_proj.weight', 'model.layers.19.mlp.down_proj.weight', 'model.layers.30.mlp.down_proj.weight', 'model.layers.12.mlp.down_proj.weight', 'model.layers.29.post_attention_layernorm.weight', 'model.layers.10.mlp.up_proj.weight', 'model.layers.19.self_attn.o_proj.weight', 'model.layers.21.input_layernorm.weight', 'model.layers.25.mlp.gate_proj.weight', 'model.layers.26.self_attn.o_proj.weight', 'model.layers.29.mlp.gate_proj.weight', 'model.layers.26.mlp.gate_proj.weight', 'model.layers.29.input_layernorm.weight', 'model.layers.21.mlp.down_proj.weight', 'model.layers.31.self_attn.o_proj.weight', 'model.layers.4.mlp.down_proj.weight', 'model.layers.19.self_attn.q_proj.weight', 'model.layers.26.self_attn.v_proj.weight', 'model.layers.27.self_attn.o_proj.weight', 'lm_head.weight', 'model.layers.31.mlp.up_proj.weight', 'model.layers.15.mlp.gate_proj.weight', 'model.layers.10.mlp.gate_proj.weight', 'model.layers.17.mlp.gate_proj.weight', 'model.layers.22.mlp.down_proj.weight', 'model.layers.30.self_attn.q_proj.weight', 'model.layers.1.mlp.up_proj.weight', 'model.layers.28.self_attn.q_proj.weight', 'model.layers.0.mlp.gate_proj.weight', 'model.layers.28.self_attn.v_proj.weight', 'model.layers.27.mlp.down_proj.weight', 'model.layers.30.mlp.gate_proj.weight', 'model.layers.22.self_attn.k_proj.weight', 'model.layers.27.self_attn.k_proj.weight', 'model.layers.20.self_attn.q_proj.weight', 'model.layers.20.self_attn.v_proj.weight', 'model.layers.25.self_attn.o_proj.weight', 'model.layers.26.self_attn.q_proj.weight', 'model.layers.24.self_attn.q_proj.weight', 'model.layers.23.mlp.gate_proj.weight', 'model.layers.21.self_attn.v_proj.weight', 'model.layers.25.post_attention_layernorm.weight', 'model.layers.8.mlp.down_proj.weight', 'model.layers.7.mlp.up_proj.weight', 'model.layers.0.mlp.up_proj.weight', 'model.layers.22.post_attention_layernorm.weight', 'model.layers.23.self_attn.o_proj.weight', 'model.layers.20.input_layernorm.weight', 'model.norm.weight', 'model.layers.31.self_attn.q_proj.weight', 'model.layers.1.mlp.gate_proj.weight', 'model.layers.21.self_attn.k_proj.weight', 'model.layers.25.self_attn.q_proj.weight', 'model.layers.7.mlp.down_proj.weight', 'model.layers.27.self_attn.q_proj.weight', 'model.layers.8.mlp.gate_proj.weight', 'model.layers.30.self_attn.o_proj.weight', 'model.layers.2.mlp.up_proj.weight', 'model.layers.20.mlp.down_proj.weight', 'model.layers.3.mlp.down_proj.weight', 'model.layers.25.input_layernorm.weight', 'model.layers.18.input_layernorm.weight', 'model.layers.0.self_attn.o_proj.weight', 'model.layers.23.self_attn.k_proj.weight', 'model.layers.24.mlp.up_proj.weight', 'model.layers.23.post_attention_layernorm.weight', 'model.layers.30.input_layernorm.weight', 'model.layers.31.self_attn.k_proj.weight', 'model.layers.18.mlp.gate_proj.weight', 'model.layers.4.mlp.up_proj.weight', 'model.layers.23.self_attn.q_proj.weight', 'model.layers.24.self_attn.v_proj.weight', 'model.layers.19.mlp.up_proj.weight', 'model.layers.24.post_attention_layernorm.weight', 'model.layers.20.self_attn.o_proj.weight', 'model.layers.21.mlp.up_proj.weight', 'model.layers.28.self_attn.o_proj.weight', 'model.layers.9.mlp.up_proj.weight', 'model.layers.21.self_attn.q_proj.weight', 'model.layers.1.self_attn.q_proj.weight', 'model.layers.21.self_attn.o_proj.weight', 'model.layers.4.mlp.gate_proj.weight', 'model.layers.30.self_attn.v_proj.weight', 'model.layers.22.mlp.up_proj.weight', 'model.layers.31.mlp.down_proj.weight', 'model.layers.15.mlp.up_proj.weight', 'model.embed_tokens.weight', 'model.layers.26.input_layernorm.weight', 'model.layers.17.mlp.up_proj.weight', 'model.layers.23.mlp.up_proj.weight', 'model.layers.0.self_attn.q_proj.weight', 'model.layers.29.self_attn.o_proj.weight', 'model.layers.27.post_attention_layernorm.weight', 'model.layers.22.input_layernorm.weight', 'model.layers.3.mlp.gate_proj.weight', 'model.layers.26.self_attn.k_proj.weight', 'model.layers.24.input_layernorm.weight', 'model.layers.25.self_attn.k_proj.weight', 'model.layers.18.self_attn.v_proj.weight', 'model.layers.30.post_attention_layernorm.weight', 'model.layers.31.input_layernorm.weight', 'model.layers.2.mlp.gate_proj.weight', 'model.layers.2.mlp.down_proj.weight', 'model.layers.6.mlp.gate_proj.weight', 'model.layers.3.mlp.up_proj.weight', 'model.layers.8.mlp.up_proj.weight', 'model.layers.18.post_attention_layernorm.weight', 'model.layers.1.self_attn.o_proj.weight', 'model.layers.22.self_attn.v_proj.weight', 'model.layers.17.mlp.down_proj.weight', 'model.layers.19.input_layernorm.weight', 'model.layers.28.mlp.up_proj.weight', 'model.layers.1.mlp.down_proj.weight', 'model.layers.20.post_attention_layernorm.weight', 'model.layers.20.mlp.up_proj.weight', 'model.layers.6.mlp.up_proj.weight', 'model.layers.24.self_attn.k_proj.weight', 'model.layers.31.post_attention_layernorm.weight', 'model.layers.31.self_attn.v_proj.weight', 'model.layers.10.mlp.down_proj.weight', 'model.layers.20.self_attn.k_proj.weight', 'model.layers.18.self_attn.o_proj.weight', 'model.layers.5.mlp.gate_proj.weight', 'model.layers.23.self_attn.v_proj.weight', 'model.layers.25.self_attn.v_proj.weight', 'model.layers.28.mlp.gate_proj.weight', 'model.layers.16.mlp.up_proj.weight', 'model.layers.29.self_attn.v_proj.weight', 'model.layers.12.mlp.gate_proj.weight', 'model.layers.5.mlp.down_proj.weight', 'model.layers.26.post_attention_layernorm.weight', 'model.layers.28.post_attention_layernorm.weight', 'model.layers.20.mlp.gate_proj.weight', 'model.layers.21.post_attention_layernorm.weight', 'model.layers.27.self_attn.v_proj.weight', 'model.layers.14.mlp.gate_proj.weight', 'model.layers.26.mlp.up_proj.weight', 'model.layers.25.mlp.down_proj.weight', 'model.layers.9.mlp.gate_proj.weight', 'model.layers.24.self_attn.o_proj.weight', 'model.layers.30.self_attn.k_proj.weight', 'model.layers.21.mlp.gate_proj.weight', 'model.layers.18.mlp.down_proj.weight', 'model.layers.31.mlp.gate_proj.weight', 'model.layers.15.mlp.down_proj.weight', 'model.layers.7.mlp.gate_proj.weight', 'model.layers.11.mlp.down_proj.weight', 'model.layers.29.mlp.up_proj.weight', 'model.layers.16.mlp.down_proj.weight', 'model.layers.22.self_attn.q_proj.weight', 'model.layers.11.mlp.gate_proj.weight', 'model.layers.27.input_layernorm.weight', 'model.layers.13.mlp.gate_proj.weight', 'model.layers.18.mlp.up_proj.weight', 'model.layers.23.mlp.down_proj.weight', 'model.layers.14.mlp.up_proj.weight']\n",
      "Model distributed across 2 GPUs\n"
     ]
    }
   ],
   "source": [
    "# Load the model\n",
    "checkpoint_path = os.path.join(model_dir, \"model-00001-of-00002.safetensors\")\n",
    "model = model_loader.load_model(checkpoint_path=checkpoint_path)\n"
   ]
  },
  {
   "cell_type": "code",
   "execution_count": 7,
   "id": "f6966137-2bfe-4155-b0ff-6b13a00d188c",
   "metadata": {},
   "outputs": [
    {
     "name": "stdout",
     "output_type": "stream",
     "text": [
      "\n",
      "Model loaded successfully on devices: ['cuda:0', 'cuda:1']\n",
      "Model type: LlamaForCausalLM\n"
     ]
    }
   ],
   "source": [
    "# Verify model loading\n",
    "print(f\"\\nModel loaded successfully on devices: {[f'cuda:{i}' for i in model_loader.device_ids]}\")\n",
    "print(f\"Model type: {type(model).__name__}\")\n"
   ]
  },
  {
   "cell_type": "code",
   "execution_count": 8,
   "id": "3c82a665-0afd-423e-a861-e042d3f85cf6",
   "metadata": {},
   "outputs": [
    {
     "name": "stdout",
     "output_type": "stream",
     "text": [
      "Total parameters: 8.03B\n"
     ]
    }
   ],
   "source": [
    "# Print model statistics\n",
    "total_params = sum(p.numel() for p in model.parameters())\n",
    "print(f\"Total parameters: {total_params/1e9:.2f}B\")"
   ]
  }
 ],
 "metadata": {
  "kernelspec": {
   "display_name": "Python 3 (ipykernel)",
   "language": "python",
   "name": "python3"
  },
  "language_info": {
   "codemirror_mode": {
    "name": "ipython",
    "version": 3
   },
   "file_extension": ".py",
   "mimetype": "text/x-python",
   "name": "python",
   "nbconvert_exporter": "python",
   "pygments_lexer": "ipython3",
   "version": "3.11.2"
  }
 },
 "nbformat": 4,
 "nbformat_minor": 5
}
