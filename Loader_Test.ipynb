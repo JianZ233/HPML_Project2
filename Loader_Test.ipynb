{
 "cells": [
  {
   "cell_type": "code",
   "execution_count": 1,
   "id": "62ea12bf-1ee7-40f3-80b5-40d27a6e8289",
   "metadata": {},
   "outputs": [],
   "source": [
    "import os\n",
    "import time\n",
    "from safetensors.torch import load_file\n",
    "from transformers import AutoModelForCausalLM, AutoConfig\n",
    "import torch\n",
    "import torch.nn as nn\n",
    "from ShardedFP8ModelLoader import ShardedFP8ModelLoader, FP8Format"
   ]
  },
  {
   "cell_type": "code",
   "execution_count": 2,
   "id": "5df089ce-2662-4247-a426-cc63204bea05",
   "metadata": {},
   "outputs": [],
   "source": [
    "model_dir = \"./Meta-Llama-3.1-8B-Instruct-FP8\""
   ]
  },
  {
   "cell_type": "code",
   "execution_count": 3,
   "id": "681c7ef2-9300-4f1d-a313-e9d40878f054",
   "metadata": {},
   "outputs": [],
   "source": [
    "model_loader = ShardedFP8ModelLoader(\n",
    "    model_dir=model_dir,\n",
    "    device_ids=[0, 1],\n",
    "    memory_efficient=True,\n",
    "    fp8_format=FP8Format(e4m3=True)\n",
    ")"
   ]
  },
  {
   "cell_type": "code",
   "execution_count": 4,
   "id": "5bf07fdf-ee64-4683-b120-26c1dd23a874",
   "metadata": {},
   "outputs": [],
   "source": [
    "# Check if CUDA is available\n",
    "if not torch.cuda.is_available():\n",
    "    raise RuntimeError(\"CUDA is not available\")"
   ]
  },
  {
   "cell_type": "code",
   "execution_count": 5,
   "id": "920b1a7f-988d-4c55-ac7b-79fdfadc2849",
   "metadata": {},
   "outputs": [
    {
     "name": "stdout",
     "output_type": "stream",
     "text": [
      "GPU 0: NVIDIA L4\n",
      "Memory: 21.95 GB\n",
      "GPU 1: NVIDIA L4\n",
      "Memory: 21.95 GB\n"
     ]
    }
   ],
   "source": [
    "# Print GPU info\n",
    "for i in range(torch.cuda.device_count()):\n",
    "    print(f\"GPU {i}: {torch.cuda.get_device_name(i)}\")\n",
    "    print(f\"Memory: {torch.cuda.get_device_properties(i).total_memory / 1024**3:.2f} GB\")"
   ]
  },
  {
   "cell_type": "code",
   "execution_count": 6,
   "id": "e76c1dc4-a1f4-4b60-a75b-c545c6e26fd6",
   "metadata": {},
   "outputs": [
    {
     "name": "stdout",
     "output_type": "stream",
     "text": [
      "Found shard files: ['model-00001-of-00002.safetensors', 'model-00002-of-00002.safetensors']\n"
     ]
    }
   ],
   "source": [
    "# Gather all shard files\n",
    "shard_files = [f for f in os.listdir(model_dir) if f.startswith(\"model-\") and f.endswith(\".safetensors\")]\n",
    "shard_files = sorted(shard_files)\n",
    "print(f\"Found shard files: {shard_files}\")"
   ]
  },
  {
   "cell_type": "code",
   "execution_count": 7,
   "id": "d68bccb5-9404-40dc-b46e-a99ad517e8d5",
   "metadata": {},
   "outputs": [
    {
     "name": "stdout",
     "output_type": "stream",
     "text": [
      "Loading shard: ./Meta-Llama-3.1-8B-Instruct-FP8/model-00001-of-00002.safetensors\n",
      "Loading shard: ./Meta-Llama-3.1-8B-Instruct-FP8/model-00002-of-00002.safetensors\n"
     ]
    }
   ],
   "source": [
    "# Load all shards into a single dictionary\n",
    "all_weights = {}\n",
    "for sf in shard_files:\n",
    "    shard_path = os.path.join(model_dir, sf)\n",
    "    print(f\"Loading shard: {shard_path}\")\n",
    "    shard_weights = load_file(shard_path)\n",
    "    all_weights.update(shard_weights)"
   ]
  },
  {
   "cell_type": "code",
   "execution_count": 8,
   "id": "a4df0806-daa7-431b-b8f1-138dcaf0e420",
   "metadata": {},
   "outputs": [
    {
     "name": "stdout",
     "output_type": "stream",
     "text": [
      "Model distributed across 2 GPUs\n"
     ]
    }
   ],
   "source": [
    "# Measure the loading time\n",
    "start_time = time.time()\n",
    "model = model_loader.load_model_from_weights(all_weights)\n",
    "end_time = time.time()"
   ]
  },
  {
   "cell_type": "code",
   "execution_count": 9,
   "id": "f6966137-2bfe-4155-b0ff-6b13a00d188c",
   "metadata": {},
   "outputs": [
    {
     "name": "stdout",
     "output_type": "stream",
     "text": [
      "\n",
      "Model loaded successfully on devices: ['cuda:0', 'cuda:1']\n",
      "Model type: LlamaForCausalLM\n",
      "Total parameters: 8.03B\n",
      "Model loaded in 119.80 seconds\n"
     ]
    }
   ],
   "source": [
    "# Verify model loading\n",
    "print(f\"\\nModel loaded successfully on devices: {[f'cuda:{i}' for i in model_loader.device_ids]}\")\n",
    "print(f\"Model type: {type(model).__name__}\")\n",
    "print(f\"Total parameters: {sum(p.numel() for p in model.parameters())/1e9:.2f}B\")\n",
    "print(f\"Model loaded in {end_time - start_time:.2f} seconds\")"
   ]
  },
  {
   "cell_type": "code",
   "execution_count": 10,
   "id": "5ad8de56-4ded-4efc-afe9-4bf2814602c5",
   "metadata": {},
   "outputs": [],
   "source": [
    "# print(\"Model keys example:\", list(model.state_dict().keys())[:50])\n",
    "# print(\"Checkpoint keys example:\", list(all_weights.keys())[:50])"
   ]
  },
  {
   "cell_type": "code",
   "execution_count": null,
   "id": "2ebb050f-6c0a-4c99-85c6-4b5e92b97431",
   "metadata": {},
   "outputs": [],
   "source": [
    "import os\n",
    "import time\n",
    "from safetensors.torch import load_file\n",
    "from transformers import AutoModelForCausalLM, AutoConfig\n",
    "import torch\n",
    "from ShardedFP8ModelLoader import ShardedFP8ModelLoader, FP8Format\n",
    "\n",
    "torch.cuda.empty_cache()\n",
    "torch.cuda.synchronize()\n",
    "print(\"Cleared GPU memory cache.\")\n",
    "\n",
    "# Path to model directory\n",
    "model_dir = \"./Meta-Llama-3.1-8B-Instruct-FP8\"\n",
    "\n",
    "# Initialize model loader\n",
    "model_loader = ShardedFP8ModelLoader(\n",
    "    model_dir=model_dir,\n",
    "    device_ids=[0, 1],\n",
    "    memory_efficient=True,\n",
    "    fp8_format=FP8Format(e4m3=True)\n",
    ")\n",
    "\n",
    "# Check CUDA availability\n",
    "if not torch.cuda.is_available():\n",
    "    raise RuntimeError(\"CUDA is not available\")\n",
    "\n",
    "# Print GPU info and initial memory usage\n",
    "print(\"\\nGPU Information and Initial Memory Usage:\")\n",
    "for i in range(torch.cuda.device_count()):\n",
    "    print(f\"GPU {i}: {torch.cuda.get_device_name(i)}\")\n",
    "    total_mem = torch.cuda.get_device_properties(i).total_memory / 1024**3\n",
    "    print(f\"Total Memory: {total_mem:.2f} GB\")\n",
    "    print(f\"Memory Allocated: {torch.cuda.memory_allocated(i) / 1024**2:.2f} MB\")\n",
    "    print(f\"Memory Reserved: {torch.cuda.memory_reserved(i) / 1024**2:.2f} MB\")\n",
    "\n",
    "# Gather shard files\n",
    "shard_files = [f for f in os.listdir(model_dir) if f.startswith(\"model-\") and f.endswith(\".safetensors\")]\n",
    "shard_files = sorted(shard_files)\n",
    "print(f\"\\nFound shard files: {shard_files}\")\n",
    "\n",
    "# Load shards into a dictionary\n",
    "all_weights = {}\n",
    "for sf in shard_files:\n",
    "    shard_path = os.path.join(model_dir, sf)\n",
    "    print(f\"Loading shard: {shard_path}\")\n",
    "    shard_weights = load_file(shard_path)\n",
    "    all_weights.update(shard_weights)\n",
    "\n",
    "# Measure loading time and memory usage\n",
    "start_time = time.time()\n",
    "torch.cuda.synchronize()\n",
    "\n",
    "print(\"\\nMemory Usage Before Model Loading:\")\n",
    "for i in range(torch.cuda.device_count()):\n",
    "    print(f\"GPU {i} Memory Allocated: {torch.cuda.memory_allocated(i) / 1024**2:.2f} MB\")\n",
    "    print(f\"GPU {i} Memory Reserved: {torch.cuda.memory_reserved(i) / 1024**2:.2f} MB\")\n",
    "\n",
    "# Load the model\n",
    "model = model_loader.load_model_from_weights(all_weights)\n",
    "\n",
    "torch.cuda.synchronize()\n",
    "end_time = time.time()\n",
    "\n",
    "# Print post-loading memory usage\n",
    "print(\"\\nMemory Usage After Model Loading:\")\n",
    "for i in range(torch.cuda.device_count()):\n",
    "    print(f\"GPU {i} Memory Allocated: {torch.cuda.memory_allocated(i) / 1024**2:.2f} MB\")\n",
    "    print(f\"GPU {i} Memory Reserved: {torch.cuda.memory_reserved(i) / 1024**2:.2f} MB\")\n",
    "\n",
    "# Final model summary\n",
    "print(f\"\\nModel loaded successfully on devices: {[f'cuda:{i}' for i in model_loader.device_ids]}\")\n",
    "print(f\"Model type: {type(model).__name__}\")\n",
    "print(f\"Total parameters: {sum(p.numel() for p in model.parameters()) / 1e9:.2f}B\")\n",
    "print(f\"Model loaded in {end_time - start_time:.2f} seconds\")\n"
   ]
  },
  {
   "cell_type": "code",
   "execution_count": null,
   "id": "b7537dde",
   "metadata": {},
   "outputs": [],
   "source": [
    "import os\n",
    "import time\n",
    "import torch\n",
    "from safetensors.torch import load_file\n",
    "from transformers import AutoModelForCausalLM\n",
    "\n",
    "# Utility function to display memory usage\n",
    "def print_gpu_memory_usage():\n",
    "    for i in range(torch.cuda.device_count()):\n",
    "        print(f\"GPU {i} Memory Allocated: {torch.cuda.memory_allocated(i) / 1024**2:.2f} MB\")\n",
    "        print(f\"GPU {i} Memory Reserved: {torch.cuda.memory_reserved(i) / 1024**2:.2f} MB\")\n",
    "\n",
    "# Clear GPU cache and set environment variable\n",
    "torch.cuda.empty_cache()\n",
    "os.environ[\"PYTORCH_CUDA_ALLOC_CONF\"] = \"expandable_segments:True\"\n",
    "\n",
    "# Path to model directory\n",
    "model_dir = \"./Meta-Llama-3.1-8B-Instruct-FP8\"\n",
    "\n",
    "# Display initial memory usage\n",
    "print(\"=== Initial GPU Memory Usage ===\")\n",
    "print_gpu_memory_usage()\n",
    "\n",
    "# Load model with mixed precision and auto device map\n",
    "print(\"\\nInitializing the model with mixed precision and device map...\")\n",
    "start_time = time.time()\n",
    "model = AutoModelForCausalLM.from_pretrained(\n",
    "    model_dir,\n",
    "    torch_dtype=torch.float16,\n",
    "    device_map=\"auto\"\n",
    ")\n",
    "torch.cuda.synchronize()\n",
    "end_time = time.time()\n",
    "\n",
    "print(\"\\n=== GPU Memory Usage After Model Initialization ===\")\n",
    "print_gpu_memory_usage()\n",
    "print(f\"Model initialization time: {end_time - start_time:.2f} seconds\")\n",
    "\n",
    "# Gather shard files\n",
    "shard_files = [f for f in os.listdir(model_dir) if f.startswith(\"model-\") and f.endswith(\".safetensors\")]\n",
    "shard_files = sorted(shard_files)\n",
    "print(f\"\\nFound shard files: {shard_files}\")\n",
    "\n",
    "# Load and apply shards sequentially\n",
    "print(\"\\nLoading and applying shards...\")\n",
    "for i, sf in enumerate(shard_files):\n",
    "    shard_path = os.path.join(model_dir, sf)\n",
    "    print(f\"\\nLoading shard {i+1}/{len(shard_files)}: {shard_path}\")\n",
    "\n",
    "    # Load shard\n",
    "    start_shard_time = time.time()\n",
    "    shard_weights = load_file(shard_path)\n",
    "    \n",
    "    model.load_state_dict(shard_weights, strict=False)\n",
    "    torch.cuda.synchronize()\n",
    "    end_shard_time = time.time()\n",
    "\n",
    "    # Print memory usage after loading the shard\n",
    "    print(f\"Shard {i+1} loaded in {end_shard_time - start_shard_time:.2f} seconds\")\n",
    "    print(\"GPU Memory Usage After Shard Loading:\")\n",
    "    print_gpu_memory_usage()\n",
    "\n",
    "    # Free up memory\n",
    "    del shard_weights\n",
    "    torch.cuda.empty_cache()\n",
    "\n",
    "# Final memory usage\n",
    "print(\"\\n=== Final GPU Memory Usage After All Shards Loaded ===\")\n",
    "print_gpu_memory_usage()\n",
    "print(\"\\nModel loaded successfully!\")\n"
   ]
  }
 ],
 "metadata": {
  "kernelspec": {
   "display_name": "Python 3 (ipykernel)",
   "language": "python",
   "name": "python3"
  },
  "language_info": {
   "codemirror_mode": {
    "name": "ipython",
    "version": 3
   },
   "file_extension": ".py",
   "mimetype": "text/x-python",
   "name": "python",
   "nbconvert_exporter": "python",
   "pygments_lexer": "ipython3",
   "version": "3.11.2"
  }
 },
 "nbformat": 4,
 "nbformat_minor": 5
}
